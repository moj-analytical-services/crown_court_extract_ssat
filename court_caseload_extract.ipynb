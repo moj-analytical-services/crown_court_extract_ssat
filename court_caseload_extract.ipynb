{
 "cells": [
  {
   "cell_type": "markdown",
   "id": "e93d157f-29f0-4191-80c1-147920f90212",
   "metadata": {
    "tags": []
   },
   "source": [
    "## Court Caseload Extract"
   ]
  },
  {
   "cell_type": "code",
   "execution_count": 2,
   "id": "265a68e5-bf04-468a-ae79-a58d0a79f6bf",
   "metadata": {},
   "outputs": [
    {
     "name": "stdout",
     "output_type": "stream",
     "text": [
      "Collecting pydbtools\n",
      "  Using cached pydbtools-5.6.4-py3-none-any.whl (12 kB)\n",
      "Collecting sql-metadata<3.0.0,>=2.3.0\n",
      "  Using cached sql_metadata-2.15.0-py3-none-any.whl (22 kB)\n",
      "Collecting sqlparse>=0.5.0\n",
      "  Using cached sqlparse-0.5.3-py3-none-any.whl (44 kB)\n",
      "Collecting arrow-pd-parser>=1.3.9\n",
      "  Using cached arrow_pd_parser-2.2.0-py3-none-any.whl (26 kB)\n",
      "Collecting awswrangler>=2.12.0\n",
      "  Using cached awswrangler-3.11.0-py3-none-any.whl (379 kB)\n",
      "Requirement already satisfied: boto3>=1.7.4 in /opt/conda/lib/python3.9/site-packages (from pydbtools) (1.24.82)\n",
      "Collecting Jinja2>=3.1.0\n",
      "  Using cached jinja2-3.1.6-py3-none-any.whl (134 kB)\n",
      "Collecting pyarrow>=14.0.0\n",
      "  Using cached pyarrow-19.0.1-cp39-cp39-manylinux_2_28_x86_64.whl (42.1 MB)\n",
      "Requirement already satisfied: pandas>=1.2 in /opt/conda/lib/python3.9/site-packages (from arrow-pd-parser>=1.3.9->pydbtools) (1.3.3)\n",
      "Collecting mojap-metadata[arrow]<2.0.0,>=1.10.0\n",
      "  Using cached mojap_metadata-1.15.3-py3-none-any.whl (52 kB)\n",
      "Collecting smart-open<6.0.0,>=5.2.1\n",
      "  Using cached smart_open-5.2.1-py3-none-any.whl (58 kB)\n",
      "Collecting numpy<2.1.0,>=1.26\n",
      "  Using cached numpy-2.0.2-cp39-cp39-manylinux_2_17_x86_64.manylinux2014_x86_64.whl (19.5 MB)\n",
      "Requirement already satisfied: botocore<2.0.0,>=1.23.32 in /opt/conda/lib/python3.9/site-packages (from awswrangler>=2.12.0->pydbtools) (1.27.82)\n",
      "Collecting pyarrow>=14.0.0\n",
      "  Using cached pyarrow-18.1.0-cp39-cp39-manylinux_2_28_x86_64.whl (40.1 MB)\n",
      "Collecting typing-extensions<5.0.0,>=4.4.0\n",
      "  Using cached typing_extensions-4.13.0-py3-none-any.whl (45 kB)\n",
      "Collecting packaging<25.0,>=21.1\n",
      "  Using cached packaging-24.2-py3-none-any.whl (65 kB)\n",
      "Requirement already satisfied: jmespath<2.0.0,>=0.7.1 in /opt/conda/lib/python3.9/site-packages (from boto3>=1.7.4->pydbtools) (1.0.1)\n",
      "Requirement already satisfied: s3transfer<0.7.0,>=0.6.0 in /opt/conda/lib/python3.9/site-packages (from boto3>=1.7.4->pydbtools) (0.6.0)\n",
      "Requirement already satisfied: python-dateutil<3.0.0,>=2.1 in /opt/conda/lib/python3.9/site-packages (from botocore<2.0.0,>=1.23.32->awswrangler>=2.12.0->pydbtools) (2.8.2)\n",
      "Requirement already satisfied: urllib3<1.27,>=1.25.4 in /opt/conda/lib/python3.9/site-packages (from botocore<2.0.0,>=1.23.32->awswrangler>=2.12.0->pydbtools) (1.26.6)\n",
      "Requirement already satisfied: MarkupSafe>=2.0 in /opt/conda/lib/python3.9/site-packages (from Jinja2>=3.1.0->pydbtools) (2.0.1)\n",
      "Requirement already satisfied: PyYAML<7.0,>=6.0 in /opt/conda/lib/python3.9/site-packages (from mojap-metadata[arrow]<2.0.0,>=1.10.0->arrow-pd-parser>=1.3.9->pydbtools) (6.0.2)\n",
      "Requirement already satisfied: parameterized==0.7.* in /opt/conda/lib/python3.9/site-packages (from mojap-metadata[arrow]<2.0.0,>=1.10.0->arrow-pd-parser>=1.3.9->pydbtools) (0.7.5)\n",
      "Requirement already satisfied: jsonschema>=3.0.0 in /opt/conda/lib/python3.9/site-packages (from mojap-metadata[arrow]<2.0.0,>=1.10.0->arrow-pd-parser>=1.3.9->pydbtools) (3.2.0)\n",
      "Collecting dataengineeringutils3>=1.4.0\n",
      "  Using cached dataengineeringutils3-1.4.3-py3-none-any.whl (12 kB)\n",
      "Requirement already satisfied: Deprecated<2.0.0,>=1.2.12 in /opt/conda/lib/python3.9/site-packages (from dataengineeringutils3>=1.4.0->mojap-metadata[arrow]<2.0.0,>=1.10.0->arrow-pd-parser>=1.3.9->pydbtools) (1.2.18)\n",
      "Requirement already satisfied: wrapt<2,>=1.10 in /opt/conda/lib/python3.9/site-packages (from Deprecated<2.0.0,>=1.2.12->dataengineeringutils3>=1.4.0->mojap-metadata[arrow]<2.0.0,>=1.10.0->arrow-pd-parser>=1.3.9->pydbtools) (1.17.2)\n",
      "Requirement already satisfied: attrs>=17.4.0 in /opt/conda/lib/python3.9/site-packages (from jsonschema>=3.0.0->mojap-metadata[arrow]<2.0.0,>=1.10.0->arrow-pd-parser>=1.3.9->pydbtools) (21.2.0)\n",
      "Requirement already satisfied: six>=1.11.0 in /opt/conda/lib/python3.9/site-packages (from jsonschema>=3.0.0->mojap-metadata[arrow]<2.0.0,>=1.10.0->arrow-pd-parser>=1.3.9->pydbtools) (1.16.0)\n",
      "Requirement already satisfied: setuptools in /opt/conda/lib/python3.9/site-packages (from jsonschema>=3.0.0->mojap-metadata[arrow]<2.0.0,>=1.10.0->arrow-pd-parser>=1.3.9->pydbtools) (58.0.4)\n",
      "Requirement already satisfied: pyrsistent>=0.14.0 in /opt/conda/lib/python3.9/site-packages (from jsonschema>=3.0.0->mojap-metadata[arrow]<2.0.0,>=1.10.0->arrow-pd-parser>=1.3.9->pydbtools) (0.17.3)\n",
      "Requirement already satisfied: pytz>=2017.3 in /opt/conda/lib/python3.9/site-packages (from pandas>=1.2->arrow-pd-parser>=1.3.9->pydbtools) (2021.1)\n",
      "Installing collected packages: numpy, Jinja2, dataengineeringutils3, typing-extensions, pyarrow, packaging, mojap-metadata, sqlparse, smart-open, awswrangler, sql-metadata, arrow-pd-parser, pydbtools\n",
      "  Attempting uninstall: numpy\n",
      "    Found existing installation: numpy 1.24.3\n",
      "    Uninstalling numpy-1.24.3:\n",
      "      Successfully uninstalled numpy-1.24.3\n",
      "  Attempting uninstall: Jinja2\n",
      "    Found existing installation: Jinja2 3.0.1\n",
      "    Uninstalling Jinja2-3.0.1:\n",
      "      Successfully uninstalled Jinja2-3.0.1\n",
      "  Attempting uninstall: typing-extensions\n",
      "    Found existing installation: typing-extensions 3.10.0.0\n",
      "    Uninstalling typing-extensions-3.10.0.0:\n",
      "      Successfully uninstalled typing-extensions-3.10.0.0\n",
      "  Attempting uninstall: packaging\n",
      "    Found existing installation: packaging 21.0\n",
      "    Uninstalling packaging-21.0:\n",
      "      Successfully uninstalled packaging-21.0\n",
      "\u001b[31mERROR: pip's dependency resolver does not currently take into account all the packages that are installed. This behaviour is the source of the following dependency conflicts.\n",
      "scipy 1.7.1 requires numpy<1.23.0,>=1.16.5, but you have numpy 2.0.2 which is incompatible.\n",
      "numba 0.54.0 requires numpy<1.21,>=1.17, but you have numpy 2.0.2 which is incompatible.\u001b[0m\n",
      "Successfully installed Jinja2-3.1.6 arrow-pd-parser-2.2.0 awswrangler-3.11.0 dataengineeringutils3-1.4.3 mojap-metadata-1.15.3 numpy-2.0.2 packaging-24.2 pyarrow-18.1.0 pydbtools-5.6.4 smart-open-5.2.1 sql-metadata-2.15.0 sqlparse-0.5.3 typing-extensions-4.13.0\n",
      "Collecting numpy==1.24.3\n",
      "  Using cached numpy-1.24.3-cp39-cp39-manylinux_2_17_x86_64.manylinux2014_x86_64.whl (17.3 MB)\n",
      "Installing collected packages: numpy\n",
      "\u001b[31mERROR: pip's dependency resolver does not currently take into account all the packages that are installed. This behaviour is the source of the following dependency conflicts.\n",
      "scipy 1.7.1 requires numpy<1.23.0,>=1.16.5, but you have numpy 1.24.3 which is incompatible.\n",
      "numba 0.54.0 requires numpy<1.21,>=1.17, but you have numpy 1.24.3 which is incompatible.\n",
      "awswrangler 3.11.0 requires numpy<2.1.0,>=1.26; python_version < \"3.10\", but you have numpy 1.24.3 which is incompatible.\u001b[0m\n",
      "Successfully installed numpy-1.24.3\n",
      "Looking in links: orce-reinstall\n",
      "Requirement already satisfied: pybind11>=2.12 in /opt/conda/lib/python3.9/site-packages (2.13.6)\n"
     ]
    }
   ],
   "source": [
    "!pip install pydbtools\n",
    "!pip install numpy==1.24.3 --user --force-reinstall\n",
    "!pip install \"pybind11>=2.12\" -force-reinstall"
   ]
  },
  {
   "cell_type": "code",
   "execution_count": 3,
   "id": "e80c4e8b-d28d-489d-959c-643b43322fe3",
   "metadata": {},
   "outputs": [],
   "source": [
    "import pydbtools as pydb\n",
    "import pandas as pd"
   ]
  },
  {
   "cell_type": "markdown",
   "id": "88e715e0-7e70-4743-9e17-cbdd862e6e2b",
   "metadata": {},
   "source": [
    "## Quarterly Figures"
   ]
  },
  {
   "cell_type": "code",
   "execution_count": 4,
   "id": "8ec8ae05-de0b-4b64-bef2-a657bb1cc53e",
   "metadata": {},
   "outputs": [
    {
     "data": {
      "text/html": [
       "<div>\n",
       "<style scoped>\n",
       "    .dataframe tbody tr th:only-of-type {\n",
       "        vertical-align: middle;\n",
       "    }\n",
       "\n",
       "    .dataframe tbody tr th {\n",
       "        vertical-align: top;\n",
       "    }\n",
       "\n",
       "    .dataframe thead th {\n",
       "        text-align: right;\n",
       "    }\n",
       "</style>\n",
       "<table border=\"1\" class=\"dataframe\">\n",
       "  <thead>\n",
       "    <tr style=\"text-align: right;\">\n",
       "      <th></th>\n",
       "      <th>year</th>\n",
       "      <th>quarter</th>\n",
       "      <th>receipts_all</th>\n",
       "      <th>disposals_all</th>\n",
       "      <th>open_cases_all</th>\n",
       "      <th>receipts_trial</th>\n",
       "      <th>disposals_trial</th>\n",
       "      <th>open_cases_trial</th>\n",
       "      <th>receipts_sentence</th>\n",
       "      <th>disposals_sentence</th>\n",
       "      <th>open_cases_sentence</th>\n",
       "      <th>receipts_appeal</th>\n",
       "      <th>disposals_appeal</th>\n",
       "      <th>open_cases_appeal</th>\n",
       "      <th>receipts_unknown</th>\n",
       "      <th>disposals_unknown</th>\n",
       "      <th>open_cases_unknown</th>\n",
       "    </tr>\n",
       "  </thead>\n",
       "  <tbody>\n",
       "    <tr>\n",
       "      <th>0</th>\n",
       "      <td>2016</td>\n",
       "      <td>January to March</td>\n",
       "      <td>28680</td>\n",
       "      <td>32100</td>\n",
       "      <td>48213</td>\n",
       "      <td>18677</td>\n",
       "      <td>21962</td>\n",
       "      <td>40582</td>\n",
       "      <td>7486</td>\n",
       "      <td>7507</td>\n",
       "      <td>4848</td>\n",
       "      <td>2517</td>\n",
       "      <td>2631</td>\n",
       "      <td>2783</td>\n",
       "      <td>0</td>\n",
       "      <td>0</td>\n",
       "      <td>0</td>\n",
       "    </tr>\n",
       "    <tr>\n",
       "      <th>1</th>\n",
       "      <td>2016</td>\n",
       "      <td>April to June</td>\n",
       "      <td>27763</td>\n",
       "      <td>31040</td>\n",
       "      <td>44815</td>\n",
       "      <td>17601</td>\n",
       "      <td>20701</td>\n",
       "      <td>37396</td>\n",
       "      <td>7595</td>\n",
       "      <td>7656</td>\n",
       "      <td>4757</td>\n",
       "      <td>2567</td>\n",
       "      <td>2683</td>\n",
       "      <td>2662</td>\n",
       "      <td>0</td>\n",
       "      <td>0</td>\n",
       "      <td>0</td>\n",
       "    </tr>\n",
       "  </tbody>\n",
       "</table>\n",
       "</div>"
      ],
      "text/plain": [
       "   year           quarter  receipts_all  disposals_all  open_cases_all  \\\n",
       "0  2016  January to March         28680          32100           48213   \n",
       "1  2016     April to June         27763          31040           44815   \n",
       "\n",
       "   receipts_trial  disposals_trial  open_cases_trial  receipts_sentence  \\\n",
       "0           18677            21962             40582               7486   \n",
       "1           17601            20701             37396               7595   \n",
       "\n",
       "   disposals_sentence  open_cases_sentence  receipts_appeal  disposals_appeal  \\\n",
       "0                7507                 4848             2517              2631   \n",
       "1                7656                 4757             2567              2683   \n",
       "\n",
       "   open_cases_appeal  receipts_unknown  disposals_unknown  open_cases_unknown  \n",
       "0               2783                 0                  0                   0  \n",
       "1               2662                 0                  0                   0  "
      ]
     },
     "execution_count": 4,
     "metadata": {},
     "output_type": "execute_result"
    }
   ],
   "source": [
    "# Query to get the dataset from athena\n",
    "q_query = \"Select * from crown_court_rpt_dev_dbt.receipts_disposals_open_quarterly\"\n",
    "dfq = pydb.read_sql_query(q_query)\n",
    "\n",
    "#Get the first two rows of the dataset to explore\n",
    "dfq.head(2)"
   ]
  },
  {
   "cell_type": "markdown",
   "id": "29b947b2-7132-47c1-a6b8-43d249e38114",
   "metadata": {},
   "source": [
    "## Rename Columns To Conform with Output specification "
   ]
  },
  {
   "cell_type": "markdown",
   "id": "1f47a290-0416-4535-ada7-60570d353a26",
   "metadata": {},
   "source": [
    "Get Column Names from dbt config"
   ]
  },
  {
   "cell_type": "code",
   "execution_count": 5,
   "id": "afa8e8b2-82a7-4d8f-a1e6-f8d724673aa8",
   "metadata": {},
   "outputs": [
    {
     "name": "stdout",
     "output_type": "stream",
     "text": [
      "Requirement already satisfied: pyyaml in /opt/conda/lib/python3.9/site-packages (6.0.2)\n"
     ]
    }
   ],
   "source": [
    "!pip install pyyaml\n",
    "import yaml"
   ]
  },
  {
   "cell_type": "code",
   "execution_count": 6,
   "id": "12b6f05c-c291-4e71-8ebb-286b7bf9f9a8",
   "metadata": {},
   "outputs": [
    {
     "name": "stdout",
     "output_type": "stream",
     "text": [
      "{'version': 2, 'models': [{'name': 'crown_court_rpt__receipts_disposals_open_quarterly', 'description': 'This model represents the base component of the reporting layer, utilizing data from the OneCrown dimensional model to create a quarterly summary of the caseload report', 'columns': [{'name': 'year', 'description': 'Year'}, {'name': 'quarter', 'description': 'Quarter'}, {'name': 'receipts_all', 'description': 'All cases:receipts'}, {'name': 'disposals_all', 'description': 'All cases:disposals'}, {'name': 'open_cases_all', 'description': 'All cases:open'}, {'name': 'receipts_trial', 'description': 'All trials:receipts'}, {'name': 'disposals_trial', 'description': 'All trials:disposals'}, {'name': 'open_cases_trial', 'description': 'All trials:open'}, {'name': 'receipts_sentence', 'description': 'Committed for sentence:receipts'}, {'name': 'disposals_sentence', 'description': 'Committed for sentence:disposals'}, {'name': 'open_cases_sentence', 'description': 'Committed for sentence:open'}, {'name': 'receipt_appeals', 'description': 'Appeals:receipts'}, {'name': 'disposals_appeals', 'description': 'Appeals:disposals'}, {'name': 'open_cases_appeal', 'description': 'Appeals:open'}, {'name': 'receipts_unknown', 'description': 'Unknown:receipts'}, {'name': 'disposals_unknown', 'description': 'Unknown:disposals'}, {'name': 'open_cases_unknown', 'description': 'Unknown:open'}]}]}\n"
     ]
    }
   ],
   "source": [
    "#Import DBT config file\n",
    "\n",
    "file_path = r'crown_court_rpt__receipts_disposals_open_quarterly.yml'\n",
    "with open(file_path, 'r') as file:\n",
    "    data = yaml.safe_load(file)\n",
    "print(data)"
   ]
  },
  {
   "cell_type": "code",
   "execution_count": 7,
   "id": "36073436-23e3-429b-9f16-92c285ef9277",
   "metadata": {},
   "outputs": [
    {
     "name": "stdout",
     "output_type": "stream",
     "text": [
      "['Year', 'Quarter', 'All cases:receipts', 'All cases:disposals', 'All cases:open', 'All trials:receipts', 'All trials:disposals', 'All trials:open', 'Committed for sentence:receipts', 'Committed for sentence:disposals', 'Committed for sentence:open', 'Appeals:receipts', 'Appeals:disposals', 'Appeals:open', 'Unknown:receipts', 'Unknown:disposals', 'Unknown:open']\n"
     ]
    }
   ],
   "source": [
    "#Get Output Column Names from .yml description tags\n",
    "\n",
    "updated_column_name = [] \n",
    "for model in data['models']:\n",
    "    if 'description' in model:\n",
    "        updated_column_name.append(model['description'])\n",
    "    if 'columns' in model:\n",
    "        for column in model['columns']:\n",
    "            if 'description' in column:\n",
    "                updated_column_name.append(column['description'])\n",
    "del updated_column_name[:1]\n",
    "print(updated_column_name) "
   ]
  },
  {
   "cell_type": "code",
   "execution_count": 8,
   "id": "9b71d00f-9e67-4363-a904-3a58e1b1abdd",
   "metadata": {},
   "outputs": [
    {
     "name": "stdout",
     "output_type": "stream",
     "text": [
      "17\n"
     ]
    }
   ],
   "source": [
    "#Counts to check column (items) in list\n",
    "\n",
    "count = len(updated_column_name)\n",
    "print(count)"
   ]
  },
  {
   "cell_type": "code",
   "execution_count": 9,
   "id": "f347223f-7c54-483e-bae7-4193fe96eefd",
   "metadata": {},
   "outputs": [
    {
     "name": "stdout",
     "output_type": "stream",
     "text": [
      "['Year', 'Quarter', 'All cases:receipts', 'All cases:disposals', 'All cases:open', 'All trials:receipts', 'All trials:disposals', 'All trials:open', 'Committed for sentence:receipts', 'Committed for sentence:disposals', 'Committed for sentence:open', 'Appeals:receipts', 'Appeals:disposals', 'Appeals:open', 'Unknown:receipts', 'Unknown:disposals', 'Unknown:open']\n"
     ]
    }
   ],
   "source": [
    "#Map Dataframe columns to updated columns from list\n",
    "\n",
    "#dfq = dfq.drop(columns='id')\n",
    "dfq.columns = updated_column_name\n",
    "column_list = dfq.columns.to_list()\n",
    "print(column_list)"
   ]
  },
  {
   "cell_type": "markdown",
   "id": "60869dca-fc04-40d9-af91-f1ed1f87efe2",
   "metadata": {},
   "source": [
    "# Build GPTables for Quarterly figures"
   ]
  },
  {
   "cell_type": "code",
   "execution_count": 10,
   "id": "faf1614c-f73e-4802-8dfb-6f4692905958",
   "metadata": {},
   "outputs": [
    {
     "name": "stdout",
     "output_type": "stream",
     "text": [
      "Collecting gptables\n",
      "  Using cached gptables-1.2.0-py3-none-any.whl (72 kB)\n",
      "Collecting XlsxWriter>=1.2.6\n",
      "  Using cached XlsxWriter-3.2.2-py3-none-any.whl (165 kB)\n",
      "Requirement already satisfied: xlrd>=1.2.0 in /opt/conda/lib/python3.9/site-packages (from gptables) (2.0.1)\n",
      "Requirement already satisfied: pandas>=0.25.3 in /opt/conda/lib/python3.9/site-packages (from gptables) (1.3.3)\n",
      "Requirement already satisfied: pyyaml>=3.12 in /opt/conda/lib/python3.9/site-packages (from gptables) (6.0.2)\n",
      "Requirement already satisfied: numpy>=1.17.3 in ./.local/lib/python3.9/site-packages (from pandas>=0.25.3->gptables) (1.24.3)\n",
      "Requirement already satisfied: python-dateutil>=2.7.3 in /opt/conda/lib/python3.9/site-packages (from pandas>=0.25.3->gptables) (2.8.2)\n",
      "Requirement already satisfied: pytz>=2017.3 in /opt/conda/lib/python3.9/site-packages (from pandas>=0.25.3->gptables) (2021.1)\n",
      "Requirement already satisfied: six>=1.5 in /opt/conda/lib/python3.9/site-packages (from python-dateutil>=2.7.3->pandas>=0.25.3->gptables) (1.16.0)\n",
      "Installing collected packages: XlsxWriter, gptables\n",
      "Successfully installed XlsxWriter-3.2.2 gptables-1.2.0\n"
     ]
    }
   ],
   "source": [
    "!pip install gptables\n",
    "\n",
    "import gptables as gpt"
   ]
  },
  {
   "cell_type": "code",
   "execution_count": 11,
   "id": "4e1aea61-aa4b-491d-849f-e1ca6e10beac",
   "metadata": {},
   "outputs": [],
   "source": [
    "# Define Metadata for the quarterly tables \n",
    "\n",
    "metadata = {\n",
    "    \"title\": \"Table C1: Receipts, disposals and open criminal cases in the Crown Court in England and Wales, annually 2016 - 2023, quarterly Q1 2016 - Q3 2024 [note 13][note 14][note 15][note 16][note 118] (“One Crown”)\",\n",
    "    \"source\": \"Source: XHIBIT system and Common Platform, HMCTS\",\n",
    "}\n",
    "\n",
    "#Create a GPTable object\n",
    "\n",
    "q_table = gpt.GPTable(\n",
    "    table=dfq,\n",
    "    index_columns={1:0},\n",
    "    title=metadata[\"title\"],\n",
    "    table_name=\"Crown_Court_Cases\",\n",
    "   ## subtitle=metadata[\"subtitle\"],\n",
    "    source=metadata[\"source\"],\n",
    ")\n",
    "\n",
    "q_data = q_table.table\n",
    "\n",
    "#Convert GPTable to Dataframe \n",
    "dfql = pd.DataFrame(q_data)\n",
    "\n"
   ]
  },
  {
   "cell_type": "markdown",
   "id": "1f875374-7bcb-445d-8592-9baeb3d5381d",
   "metadata": {},
   "source": [
    "# Yearly Figures"
   ]
  },
  {
   "cell_type": "code",
   "execution_count": 12,
   "id": "da473a89-ade2-44de-b4e5-781a4a5ac13a",
   "metadata": {},
   "outputs": [
    {
     "data": {
      "text/html": [
       "<div>\n",
       "<style scoped>\n",
       "    .dataframe tbody tr th:only-of-type {\n",
       "        vertical-align: middle;\n",
       "    }\n",
       "\n",
       "    .dataframe tbody tr th {\n",
       "        vertical-align: top;\n",
       "    }\n",
       "\n",
       "    .dataframe thead th {\n",
       "        text-align: right;\n",
       "    }\n",
       "</style>\n",
       "<table border=\"1\" class=\"dataframe\">\n",
       "  <thead>\n",
       "    <tr style=\"text-align: right;\">\n",
       "      <th></th>\n",
       "      <th>year</th>\n",
       "      <th>receipts_all</th>\n",
       "      <th>disposals_all</th>\n",
       "      <th>open_cases_all</th>\n",
       "      <th>receipts_trial</th>\n",
       "      <th>disposals_trial</th>\n",
       "      <th>open_cases_trial</th>\n",
       "      <th>receipts_sentence</th>\n",
       "      <th>disposals_sentence</th>\n",
       "      <th>open_cases_sentence</th>\n",
       "      <th>receipts_appeal</th>\n",
       "      <th>disposals_appeal</th>\n",
       "      <th>open_cases_appeal</th>\n",
       "      <th>receipts_unknown</th>\n",
       "      <th>disposals_unknown</th>\n",
       "      <th>open_cases_unknown</th>\n",
       "    </tr>\n",
       "  </thead>\n",
       "  <tbody>\n",
       "    <tr>\n",
       "      <th>0</th>\n",
       "      <td>2016</td>\n",
       "      <td>112005</td>\n",
       "      <td>120143</td>\n",
       "      <td>43062</td>\n",
       "      <td>71433</td>\n",
       "      <td>79710</td>\n",
       "      <td>35329</td>\n",
       "      <td>30108</td>\n",
       "      <td>29805</td>\n",
       "      <td>5012</td>\n",
       "      <td>10464</td>\n",
       "      <td>10628</td>\n",
       "      <td>2721</td>\n",
       "      <td>0</td>\n",
       "      <td>0</td>\n",
       "      <td>0</td>\n",
       "    </tr>\n",
       "    <tr>\n",
       "      <th>1</th>\n",
       "      <td>2017</td>\n",
       "      <td>109353</td>\n",
       "      <td>113029</td>\n",
       "      <td>38922</td>\n",
       "      <td>68439</td>\n",
       "      <td>72018</td>\n",
       "      <td>31454</td>\n",
       "      <td>31053</td>\n",
       "      <td>30828</td>\n",
       "      <td>5082</td>\n",
       "      <td>9861</td>\n",
       "      <td>10183</td>\n",
       "      <td>2386</td>\n",
       "      <td>0</td>\n",
       "      <td>0</td>\n",
       "      <td>0</td>\n",
       "    </tr>\n",
       "  </tbody>\n",
       "</table>\n",
       "</div>"
      ],
      "text/plain": [
       "   year  receipts_all  disposals_all  open_cases_all  receipts_trial  \\\n",
       "0  2016        112005         120143           43062           71433   \n",
       "1  2017        109353         113029           38922           68439   \n",
       "\n",
       "   disposals_trial  open_cases_trial  receipts_sentence  disposals_sentence  \\\n",
       "0            79710             35329              30108               29805   \n",
       "1            72018             31454              31053               30828   \n",
       "\n",
       "   open_cases_sentence  receipts_appeal  disposals_appeal  open_cases_appeal  \\\n",
       "0                 5012            10464             10628               2721   \n",
       "1                 5082             9861             10183               2386   \n",
       "\n",
       "   receipts_unknown  disposals_unknown  open_cases_unknown  \n",
       "0                 0                  0                   0  \n",
       "1                 0                  0                   0  "
      ]
     },
     "execution_count": 12,
     "metadata": {},
     "output_type": "execute_result"
    }
   ],
   "source": [
    "# Query to get the dataset from athena\n",
    "\n",
    "y_query = \"Select * from crown_court_rpt_dev_dbt.receipts_disposals_open_annual\"\n",
    "dfy = pydb.read_sql_query(y_query)\n",
    "\n",
    "#Get the first two rows of the dataset to explore\n",
    "\n",
    "dfy.head(2)"
   ]
  },
  {
   "cell_type": "markdown",
   "id": "063efbed-8cdd-4629-b456-15c407c15b4c",
   "metadata": {},
   "source": [
    "# Rename To Conform with Output specification"
   ]
  },
  {
   "cell_type": "code",
   "execution_count": 13,
   "id": "ff5ad3e2-716a-4ea3-8b00-8c6f0c165c80",
   "metadata": {},
   "outputs": [
    {
     "name": "stdout",
     "output_type": "stream",
     "text": [
      "{'version': 2, 'models': [{'name': 'crown_court_rpt__receipts_disposals_open_annual', 'description': 'This model represents the base component of the reporting layer, utilizing data from the OneCrown dimensional model to create a annual summary of the caseload report', 'columns': [{'name': 'year', 'description': 'Year'}, {'name': 'receipts_all', 'description': 'All cases:receipts'}, {'name': 'disposals_all', 'description': 'All cases:disposals'}, {'name': 'open_cases_all', 'description': 'All cases:open'}, {'name': 'receipts_trial', 'description': 'All trials:receipts'}, {'name': 'disposals_trial', 'description': 'All trials:disposals'}, {'name': 'open_cases_trial', 'description': 'All trials:open'}, {'name': 'receipts_sentence', 'description': 'Committed for sentence:receipts'}, {'name': 'disposals_sentence', 'description': 'Committed for sentence:disposals'}, {'name': 'open_cases_sentence', 'description': 'Committed for sentence:open'}, {'name': 'receipt_appeals', 'description': 'Appeals:receipts'}, {'name': 'disposals_appeals', 'description': 'Appeals:disposals'}, {'name': 'open_cases_appeal', 'description': 'Appeals:open'}, {'name': 'receipts_unknown', 'description': 'Unknown:receipts'}, {'name': 'disposals_unknown', 'description': 'Unknown:disposals'}, {'name': 'open_cases_unknown', 'description': 'Unknown:opens'}]}]}\n"
     ]
    }
   ],
   "source": [
    "#Import DBT config file\n",
    "\n",
    "file_path_y = r'crown_court_rpt__receipts_disposals_open_annual.yml'\n",
    "with open(file_path_y, 'r') as file:\n",
    "    data_y = yaml.safe_load(file)\n",
    "print(data_y)"
   ]
  },
  {
   "cell_type": "code",
   "execution_count": 14,
   "id": "a9ba46ae-3ea1-40f3-836c-7538f24765e8",
   "metadata": {},
   "outputs": [
    {
     "name": "stdout",
     "output_type": "stream",
     "text": [
      "['Year', 'All cases:receipts', 'All cases:disposals', 'All cases:open', 'All trials:receipts', 'All trials:disposals', 'All trials:open', 'Committed for sentence:receipts', 'Committed for sentence:disposals', 'Committed for sentence:open', 'Appeals:receipts', 'Appeals:disposals', 'Appeals:open', 'Unknown:receipts', 'Unknown:disposals', 'Unknown:opens']\n"
     ]
    }
   ],
   "source": [
    "#Get Output Column Names from .yml description tags\n",
    "\n",
    "updated_column_name_y = [] \n",
    "for model in data_y['models']:\n",
    "    if 'description' in model:\n",
    "        updated_column_name_y.append(model['description'])\n",
    "    if 'columns' in model:\n",
    "        for column in model['columns']:\n",
    "            if 'description' in column:\n",
    "                updated_column_name_y.append(column['description'])\n",
    "del updated_column_name_y[:1]\n",
    "print(updated_column_name_y) "
   ]
  },
  {
   "cell_type": "code",
   "execution_count": 15,
   "id": "917770b3-8bfd-4b6c-89d9-0f69a993fa89",
   "metadata": {},
   "outputs": [
    {
     "name": "stdout",
     "output_type": "stream",
     "text": [
      "16\n"
     ]
    }
   ],
   "source": [
    "#Counts to check column (items) in list\n",
    "\n",
    "count = len(updated_column_name_y)\n",
    "print(count)"
   ]
  },
  {
   "cell_type": "code",
   "execution_count": 16,
   "id": "4265883a-a7f1-4418-b1a5-4cd68ec001cf",
   "metadata": {},
   "outputs": [
    {
     "name": "stdout",
     "output_type": "stream",
     "text": [
      "['Year', 'All cases:receipts', 'All cases:disposals', 'All cases:open', 'All trials:receipts', 'All trials:disposals', 'All trials:open', 'Committed for sentence:receipts', 'Committed for sentence:disposals', 'Committed for sentence:open', 'Appeals:receipts', 'Appeals:disposals', 'Appeals:open', 'Unknown:receipts', 'Unknown:disposals', 'Unknown:opens']\n"
     ]
    }
   ],
   "source": [
    "#Map Dataframe columns to updated columns from list\n",
    "\n",
    "#dfy = dfy.drop(columns='id')\n",
    "dfy.columns = updated_column_name_y\n",
    "column_list_y = dfy.columns.to_list()\n",
    "print(column_list_y)"
   ]
  },
  {
   "cell_type": "markdown",
   "id": "1b6954db-94d9-44e8-9c8a-e250369ab7ee",
   "metadata": {},
   "source": [
    "# Build GPtable for Yearly Figures"
   ]
  },
  {
   "cell_type": "code",
   "execution_count": 17,
   "id": "a210bc20-3074-42ec-aa30-d2e55265d6bf",
   "metadata": {},
   "outputs": [],
   "source": [
    "# Define Metadata for the quarterly tables \n",
    "\n",
    "metadata = {\n",
    "    \"title\": \"Table C1: Receipts, disposals and open criminal cases in the Crown Court in England and Wales, annually 2016 - 2023, quarterly Q1 2016 - Q3 2024 [note 13][note 14][note 15][note 16][note 118] (“One Crown”)\",\n",
    "    \"subtitle1\": \"This worksheet contains one table.\",\n",
    "    \"subtitle2\": \"This table contains notes, which can be found in the Notes worksheet.\",\n",
    "    \"source\": \"Source: XHIBIT system and Common Platform, HMCTS\",\n",
    "}\n",
    "\n",
    "#Create a GPTable object\n",
    "\n",
    "y_table = gpt.GPTable(\n",
    "    table=dfy,\n",
    "    index_columns={1:0},\n",
    "    title=metadata[\"title\"],\n",
    "    table_name=\"Crown_Court_Cases\",\n",
    "   ## subtitle=metadata[\"subtitle\"],\n",
    "    source=metadata[\"source\"],\n",
    ")\n",
    "y_data = y_table.table\n",
    "\n",
    "#Convert GPTable to Dataframe\n",
    "dfyl = pd.DataFrame(y_data)"
   ]
  },
  {
   "cell_type": "markdown",
   "id": "7b136342-6b39-4bd9-a9e0-bfcb56cae879",
   "metadata": {},
   "source": [
    "## Trial Quarterly Figures"
   ]
  },
  {
   "cell_type": "code",
   "execution_count": 75,
   "id": "f82a31c6-23f1-46b2-9660-669008151b25",
   "metadata": {},
   "outputs": [
    {
     "data": {
      "text/html": [
       "<div>\n",
       "<style scoped>\n",
       "    .dataframe tbody tr th:only-of-type {\n",
       "        vertical-align: middle;\n",
       "    }\n",
       "\n",
       "    .dataframe tbody tr th {\n",
       "        vertical-align: top;\n",
       "    }\n",
       "\n",
       "    .dataframe thead th {\n",
       "        text-align: right;\n",
       "    }\n",
       "</style>\n",
       "<table border=\"1\" class=\"dataframe\">\n",
       "  <thead>\n",
       "    <tr style=\"text-align: right;\">\n",
       "      <th></th>\n",
       "      <th>year</th>\n",
       "      <th>quarter</th>\n",
       "      <th>receipts_trial_all</th>\n",
       "      <th>disposals_trial_all</th>\n",
       "      <th>open_cases_trial_all</th>\n",
       "      <th>receipts_trial_tew</th>\n",
       "      <th>disposals_trial_tew</th>\n",
       "      <th>open_cases_trial_tew</th>\n",
       "      <th>receipts_trial_io</th>\n",
       "      <th>disposals_trial_io</th>\n",
       "      <th>open_cases_trial_io</th>\n",
       "      <th>receipts_trial_unknown</th>\n",
       "      <th>disposals_trial_unknown</th>\n",
       "      <th>open_cases_trial_unknown</th>\n",
       "    </tr>\n",
       "  </thead>\n",
       "  <tbody>\n",
       "    <tr>\n",
       "      <th>0</th>\n",
       "      <td>2016</td>\n",
       "      <td>January to March</td>\n",
       "      <td>18677</td>\n",
       "      <td>21962</td>\n",
       "      <td>40582</td>\n",
       "      <td>12359</td>\n",
       "      <td>15063</td>\n",
       "      <td>25268</td>\n",
       "      <td>6318</td>\n",
       "      <td>6899</td>\n",
       "      <td>15314</td>\n",
       "      <td>0</td>\n",
       "      <td>0</td>\n",
       "      <td>0</td>\n",
       "    </tr>\n",
       "    <tr>\n",
       "      <th>1</th>\n",
       "      <td>2016</td>\n",
       "      <td>April to June</td>\n",
       "      <td>17601</td>\n",
       "      <td>20701</td>\n",
       "      <td>37396</td>\n",
       "      <td>11321</td>\n",
       "      <td>13685</td>\n",
       "      <td>22880</td>\n",
       "      <td>6280</td>\n",
       "      <td>7016</td>\n",
       "      <td>14516</td>\n",
       "      <td>0</td>\n",
       "      <td>0</td>\n",
       "      <td>0</td>\n",
       "    </tr>\n",
       "  </tbody>\n",
       "</table>\n",
       "</div>"
      ],
      "text/plain": [
       "   year           quarter  receipts_trial_all  disposals_trial_all  \\\n",
       "0  2016  January to March               18677                21962   \n",
       "1  2016     April to June               17601                20701   \n",
       "\n",
       "   open_cases_trial_all  receipts_trial_tew  disposals_trial_tew  \\\n",
       "0                 40582               12359                15063   \n",
       "1                 37396               11321                13685   \n",
       "\n",
       "   open_cases_trial_tew  receipts_trial_io  disposals_trial_io  \\\n",
       "0                 25268               6318                6899   \n",
       "1                 22880               6280                7016   \n",
       "\n",
       "   open_cases_trial_io  receipts_trial_unknown  disposals_trial_unknown  \\\n",
       "0                15314                       0                        0   \n",
       "1                14516                       0                        0   \n",
       "\n",
       "   open_cases_trial_unknown  \n",
       "0                         0  \n",
       "1                         0  "
      ]
     },
     "execution_count": 75,
     "metadata": {},
     "output_type": "execute_result"
    }
   ],
   "source": [
    "# Query to get the dataset from athena\n",
    "tq_query = \"Select * from crown_court_rpt_dev_dbt.trial_receipts_disposals_open_quarterly order by year\"\n",
    "dfqt = pydb.read_sql_query(tq_query)\n",
    "\n",
    "#Get the first two rows of the dataset to explore\n",
    "dfqt.head(2)"
   ]
  },
  {
   "cell_type": "code",
   "execution_count": 76,
   "id": "1b31e183-ee39-4b9d-b04a-6be27382e7f8",
   "metadata": {},
   "outputs": [
    {
     "name": "stdout",
     "output_type": "stream",
     "text": [
      "{'version': 2, 'models': [{'name': 'crown_court_rpt__trial_receipts_disposals_open_quarterly', 'description': 'This model represents the base component of the reporting layer, utilizing data from the OneCrown dimensional model to create a quarterly summary of the caseload report', 'columns': [{'name': 'year', 'description': 'Year'}, {'name': 'quarter', 'description': 'Quarter'}, {'name': 'receipts_trial_all', 'description': 'All trials:receipts'}, {'name': 'disposals_trial_all', 'description': 'All trials:disposals'}, {'name': 'open_cases_trial_all', 'description': 'All trials:open'}, {'name': 'receipts_trial_tew', 'description': 'Triable-either-way trials:receipts'}, {'name': 'disposals_trial_tew', 'description': 'Triable-either-way trials:disposals'}, {'name': 'open_cases_trial_tew', 'description': 'Triable-either-way trials:open'}, {'name': 'receipts_trial_io', 'description': 'Indictable only trials:receipts'}, {'name': 'disposals_trial_io', 'description': 'Indictable only trials:disposals'}, {'name': 'open_cases_trial_io', 'description': 'Indictable only trials:open'}, {'name': 'receipt_trial_unknown', 'description': 'Trial Unknown:receipts'}, {'name': 'disposals_trial_unknown', 'description': 'Trial Unknown:disposals'}, {'name': 'open_cases_trial_unknown', 'description': 'Trial Unknown:Open Cases'}]}]}\n"
     ]
    }
   ],
   "source": [
    "#Import DBT config file\n",
    "\n",
    "file_path_tq = r'crown_court_rpt__trial_receipts_disposals_open_quarterly.yml'\n",
    "with open(file_path_tq, 'r') as file:\n",
    "    data_t = yaml.safe_load(file)\n",
    "print(data_t)"
   ]
  },
  {
   "cell_type": "code",
   "execution_count": 77,
   "id": "3a6bfa52-5a61-4729-8126-094afd262428",
   "metadata": {},
   "outputs": [
    {
     "name": "stdout",
     "output_type": "stream",
     "text": [
      "['Year', 'Quarter', 'All trials:receipts', 'All trials:disposals', 'All trials:open', 'Triable-either-way trials:receipts', 'Triable-either-way trials:disposals', 'Triable-either-way trials:open', 'Indictable only trials:receipts', 'Indictable only trials:disposals', 'Indictable only trials:open', 'Trial Unknown:receipts', 'Trial Unknown:disposals', 'Trial Unknown:Open Cases']\n"
     ]
    }
   ],
   "source": [
    "#Get Output Column Names from .yml description tags\n",
    "\n",
    "updated_column_name_tq = [] \n",
    "for model in data_t['models']:\n",
    "    if 'description' in model:\n",
    "        updated_column_name_tq.append(model['description'])\n",
    "    if 'columns' in model:\n",
    "        for column in model['columns']:\n",
    "            if 'description' in column:\n",
    "                updated_column_name_tq.append(column['description'])\n",
    "del updated_column_name_tq[:1]\n",
    "print(updated_column_name_tq) "
   ]
  },
  {
   "cell_type": "code",
   "execution_count": 78,
   "id": "24d89ba6-1fcf-49c7-847e-5f87dc460f1d",
   "metadata": {},
   "outputs": [
    {
     "name": "stdout",
     "output_type": "stream",
     "text": [
      "14\n"
     ]
    }
   ],
   "source": [
    "#Counts to check column (items) in list\n",
    "\n",
    "count = len(updated_column_name_tq)\n",
    "print(count)"
   ]
  },
  {
   "cell_type": "code",
   "execution_count": 79,
   "id": "66be72ea-d871-4f4d-8810-6073b0b66cd4",
   "metadata": {},
   "outputs": [
    {
     "name": "stdout",
     "output_type": "stream",
     "text": [
      "['Year', 'Quarter', 'All trials:receipts', 'All trials:disposals', 'All trials:open', 'Triable-either-way trials:receipts', 'Triable-either-way trials:disposals', 'Triable-either-way trials:open', 'Indictable only trials:receipts', 'Indictable only trials:disposals', 'Indictable only trials:open', 'Trial Unknown:receipts', 'Trial Unknown:disposals', 'Trial Unknown:Open Cases']\n"
     ]
    }
   ],
   "source": [
    "#Map Dataframe columns to updated columns from list\n",
    "\n",
    "#dfq = dfq.drop(columns='id')\n",
    "dfqt.columns = updated_column_name_tq\n",
    "column_list_tq = dfqt.columns.to_list()\n",
    "print(column_list_tq)"
   ]
  },
  {
   "cell_type": "code",
   "execution_count": 83,
   "id": "d3d172a4-6909-4114-ae73-2fc525838c95",
   "metadata": {},
   "outputs": [],
   "source": [
    "# Define Metadata for the quarterly tables \n",
    "\n",
    "metadata = {\n",
    "    \"title\": \"Table C1: Receipts, disposals and open criminal cases in the Crown Court in England and Wales, annually 2016 - 2023, quarterly Q1 2016 - Q3 2024 [note 13][note 14][note 15][note 16][note 118] (“One Crown”)\",\n",
    "    \"subtitle1\": \"This worksheet contains one table.\",\n",
    "    \"subtitle2\": \"This table contains notes, which can be found in the Notes worksheet.\",\n",
    "    \"source\": \"Source: XHIBIT system and Common Platform, HMCTS\",\n",
    "}\n",
    "\n",
    "#Create a GPTable object\n",
    "\n",
    "tq_table = gpt.GPTable(\n",
    "    table=dfqt,\n",
    "    index_columns={1:0},\n",
    "    title=metadata[\"title\"],\n",
    "    table_name=\"Crown_Court_Cases\",\n",
    "   ## subtitle=metadata[\"subtitle\"],\n",
    "    source=metadata[\"source\"],\n",
    ")\n",
    "\n",
    "tq_data = tq_table.table\n",
    "\n",
    "#Convert GPTable to Dataframe \n",
    "dfqlt = pd.DataFrame(tq_data)\n"
   ]
  },
  {
   "cell_type": "markdown",
   "id": "424e4c74-3d1e-48a0-b6a5-29508cf86bc5",
   "metadata": {},
   "source": [
    "## Trial Yearly Figures"
   ]
  },
  {
   "cell_type": "code",
   "execution_count": 51,
   "id": "2ce62ff6-e3cf-4742-babf-5816bbd26bee",
   "metadata": {},
   "outputs": [
    {
     "data": {
      "text/html": [
       "<div>\n",
       "<style scoped>\n",
       "    .dataframe tbody tr th:only-of-type {\n",
       "        vertical-align: middle;\n",
       "    }\n",
       "\n",
       "    .dataframe tbody tr th {\n",
       "        vertical-align: top;\n",
       "    }\n",
       "\n",
       "    .dataframe thead th {\n",
       "        text-align: right;\n",
       "    }\n",
       "</style>\n",
       "<table border=\"1\" class=\"dataframe\">\n",
       "  <thead>\n",
       "    <tr style=\"text-align: right;\">\n",
       "      <th></th>\n",
       "      <th>year</th>\n",
       "      <th>receipts_trial_all</th>\n",
       "      <th>disposals_trial_all</th>\n",
       "      <th>open_cases_trial_all</th>\n",
       "      <th>receipts_trial_tew</th>\n",
       "      <th>disposals_trial_tew</th>\n",
       "      <th>open_cases_trial_tew</th>\n",
       "      <th>receipts_trial_io</th>\n",
       "      <th>disposals_trial_io</th>\n",
       "      <th>open_cases_trial_io</th>\n",
       "      <th>receipts_trial_unknown</th>\n",
       "      <th>disposals_trial_unknown</th>\n",
       "      <th>open_cases_trial_unknown</th>\n",
       "    </tr>\n",
       "  </thead>\n",
       "  <tbody>\n",
       "    <tr>\n",
       "      <th>0</th>\n",
       "      <td>2016</td>\n",
       "      <td>71433</td>\n",
       "      <td>79710</td>\n",
       "      <td>35329</td>\n",
       "      <td>46515</td>\n",
       "      <td>52944</td>\n",
       "      <td>21414</td>\n",
       "      <td>24918</td>\n",
       "      <td>26766</td>\n",
       "      <td>13915</td>\n",
       "      <td>0</td>\n",
       "      <td>0</td>\n",
       "      <td>0</td>\n",
       "    </tr>\n",
       "    <tr>\n",
       "      <th>1</th>\n",
       "      <td>2017</td>\n",
       "      <td>68439</td>\n",
       "      <td>72018</td>\n",
       "      <td>31454</td>\n",
       "      <td>43759</td>\n",
       "      <td>46543</td>\n",
       "      <td>18450</td>\n",
       "      <td>24680</td>\n",
       "      <td>25475</td>\n",
       "      <td>13004</td>\n",
       "      <td>0</td>\n",
       "      <td>0</td>\n",
       "      <td>0</td>\n",
       "    </tr>\n",
       "  </tbody>\n",
       "</table>\n",
       "</div>"
      ],
      "text/plain": [
       "   year  receipts_trial_all  disposals_trial_all  open_cases_trial_all  \\\n",
       "0  2016               71433                79710                 35329   \n",
       "1  2017               68439                72018                 31454   \n",
       "\n",
       "   receipts_trial_tew  disposals_trial_tew  open_cases_trial_tew  \\\n",
       "0               46515                52944                 21414   \n",
       "1               43759                46543                 18450   \n",
       "\n",
       "   receipts_trial_io  disposals_trial_io  open_cases_trial_io  \\\n",
       "0              24918               26766                13915   \n",
       "1              24680               25475                13004   \n",
       "\n",
       "   receipts_trial_unknown  disposals_trial_unknown  open_cases_trial_unknown  \n",
       "0                       0                        0                         0  \n",
       "1                       0                        0                         0  "
      ]
     },
     "execution_count": 51,
     "metadata": {},
     "output_type": "execute_result"
    }
   ],
   "source": [
    "# Query to get the dataset from athena\n",
    "ty_query = \"Select * from crown_court_rpt_dev_dbt.trial_receipts_disposals_open_annual\"\n",
    "dfyt = pydb.read_sql_query(ty_query)\n",
    "\n",
    "#Get the first two rows of the dataset to explore\n",
    "dfyt.head(2)"
   ]
  },
  {
   "cell_type": "code",
   "execution_count": 52,
   "id": "3d9e31ea-d69e-4b7f-8752-e19609131c2c",
   "metadata": {},
   "outputs": [
    {
     "name": "stdout",
     "output_type": "stream",
     "text": [
      "{'version': 2, 'models': [{'name': 'crown_court_rpt__trial_receipts_disposals_open_annual', 'description': 'This model represents the base component of the reporting layer, utilizing data from the OneCrown dimensional model to create a annual summary of the caseload report', 'columns': [{'name': 'year', 'description': 'Year'}, {'name': 'receipts_trial_all', 'description': 'All trials:receipts'}, {'name': 'disposals_trial_all', 'description': 'All trials:disposals'}, {'name': 'open_cases_trial_all', 'description': 'All trials:open'}, {'name': 'receipts_trial_tew', 'description': 'Triable-either-way trials:receipts'}, {'name': 'disposals_trial_tew', 'description': 'Triable-either-way trials:disposals'}, {'name': 'open_cases_trial_tew', 'description': 'Triable-either-way trials:open'}, {'name': 'receipts_trial_io', 'description': 'Indictable only trials:receipts'}, {'name': 'disposals_trial_io', 'description': 'Indictable only trials:disposals'}, {'name': 'open_cases_trial_io', 'description': 'Indictable only trials:open'}, {'name': 'receipt_trial_unknown', 'description': 'Trial Unknown:receipts'}, {'name': 'disposals_trial_unknown', 'description': 'Trial Unknown:disposals'}, {'name': 'open_cases_trial_unknown', 'description': 'Trial Unknown:Open Cases'}]}]}\n"
     ]
    }
   ],
   "source": [
    "#Import DBT config file\n",
    "\n",
    "file_path_ta = r'crown_court_rpt__trial_receipts_disposals_open_annual.yml'\n",
    "with open(file_path_ta, 'r') as file:\n",
    "    data_ta = yaml.safe_load(file)\n",
    "print(data_ta)"
   ]
  },
  {
   "cell_type": "code",
   "execution_count": 53,
   "id": "748f8d54-ff77-4b8a-8bd9-cec189ee826d",
   "metadata": {},
   "outputs": [
    {
     "name": "stdout",
     "output_type": "stream",
     "text": [
      "['Year', 'All trials:receipts', 'All trials:disposals', 'All trials:open', 'Triable-either-way trials:receipts', 'Triable-either-way trials:disposals', 'Triable-either-way trials:open', 'Indictable only trials:receipts', 'Indictable only trials:disposals', 'Indictable only trials:open', 'Trial Unknown:receipts', 'Trial Unknown:disposals', 'Trial Unknown:Open Cases']\n"
     ]
    }
   ],
   "source": [
    "#Get Output Column Names from .yml description tags\n",
    "\n",
    "updated_column_name_ta = [] \n",
    "for model in data_ta['models']:\n",
    "    if 'description' in model:\n",
    "        updated_column_name_ta.append(model['description'])\n",
    "    if 'columns' in model:\n",
    "        for column in model['columns']:\n",
    "            if 'description' in column:\n",
    "                updated_column_name_ta.append(column['description'])\n",
    "del updated_column_name_ta[:1]\n",
    "print(updated_column_name_ta) "
   ]
  },
  {
   "cell_type": "code",
   "execution_count": 54,
   "id": "4aa57aef-28a2-425f-8f84-4cb8845188b9",
   "metadata": {},
   "outputs": [
    {
     "name": "stdout",
     "output_type": "stream",
     "text": [
      "13\n"
     ]
    }
   ],
   "source": [
    "#Counts to check column (items) in list\n",
    "\n",
    "ta_count = len(updated_column_name_ta)\n",
    "print(ta_count)"
   ]
  },
  {
   "cell_type": "code",
   "execution_count": 55,
   "id": "7d6fbb89-8517-44bf-8109-c01612de22e2",
   "metadata": {},
   "outputs": [
    {
     "name": "stdout",
     "output_type": "stream",
     "text": [
      "['Year', 'All trials:receipts', 'All trials:disposals', 'All trials:open', 'Triable-either-way trials:receipts', 'Triable-either-way trials:disposals', 'Triable-either-way trials:open', 'Indictable only trials:receipts', 'Indictable only trials:disposals', 'Indictable only trials:open', 'Trial Unknown:receipts', 'Trial Unknown:disposals', 'Trial Unknown:Open Cases']\n"
     ]
    }
   ],
   "source": [
    "#Map Dataframe columns to updated columns from list\n",
    "\n",
    "#dfq = dfq.drop(columns='id')\n",
    "dfyt.columns = updated_column_name_ta\n",
    "column_list_ta = dfyt.columns.to_list()\n",
    "print(column_list_ta)"
   ]
  },
  {
   "cell_type": "code",
   "execution_count": 62,
   "id": "a586bc65-6a23-4977-a5ec-a12eb349e62d",
   "metadata": {},
   "outputs": [],
   "source": [
    "# Define Metadata for the quarterly tables \n",
    "\n",
    "metadata = {\n",
    "    \"title\": \"Table C1: Receipts, disposals and open criminal cases in the Crown Court in England and Wales, annually 2016 - 2023, quarterly Q1 2016 - Q3 2024 [note 13][note 14][note 15][note 16][note 118] (“One Crown”)\",\n",
    "    \"subtitle1\": \"This worksheet contains one table.\",\n",
    "    \"subtitle2\": \"This table contains notes, which can be found in the Notes worksheet.\",\n",
    "    \"source\": \"Source: XHIBIT system and Common Platform, HMCTS\",\n",
    "}\n",
    "\n",
    "#Create a GPTable object\n",
    "\n",
    "ta_table = gpt.GPTable(\n",
    "    table=dfyt,\n",
    "    index_columns={1:0},\n",
    "    title=metadata[\"title\"],\n",
    "    table_name=\"Crown_Court_Cases\",\n",
    "   ## subtitle=metadata[\"subtitle\"],\n",
    "    source=metadata[\"source\"],\n",
    ")\n",
    "\n",
    "ta_data = ta_table.table\n",
    "\n",
    "#Convert GPTable to Dataframe \n",
    "dfylt = pd.DataFrame(ta_data)\n"
   ]
  },
  {
   "cell_type": "markdown",
   "id": "d25bb406-84fb-42a1-863f-a33253891349",
   "metadata": {
    "tags": []
   },
   "source": [
    "# Export Quarterly and Yearly Figures to Excel Document"
   ]
  },
  {
   "cell_type": "code",
   "execution_count": 59,
   "id": "e1661aae-f81e-46e1-81e3-e49b30ae4cbe",
   "metadata": {},
   "outputs": [
    {
     "name": "stdout",
     "output_type": "stream",
     "text": [
      "Requirement already satisfied: openpyxl in /opt/conda/lib/python3.9/site-packages (3.1.5)\n",
      "Requirement already satisfied: et-xmlfile in /opt/conda/lib/python3.9/site-packages (from openpyxl) (2.0.0)\n",
      "Requirement already satisfied: XlsxWriter in /opt/conda/lib/python3.9/site-packages (3.2.2)\n"
     ]
    }
   ],
   "source": [
    "!pip install openpyxl\n",
    "!pip install XlsxWriter\n",
    "\n",
    "import openpyxl\n",
    "import xlsxwriter\n",
    "from openpyxl import load_workbook\n",
    "from openpyxl.utils import get_column_letter\n",
    "from openpyxl.styles import Font, Alignment"
   ]
  },
  {
   "cell_type": "code",
   "execution_count": 89,
   "id": "ae0864fb-77cd-4cbf-b23d-37aaad7dcc07",
   "metadata": {
    "jp-MarkdownHeadingCollapsed": true,
    "tags": []
   },
   "outputs": [],
   "source": [
    "# Save the table as an Excel File \n",
    "\n",
    "output_filename = \"crown_court_extract.xlsx\"\n",
    "with pd.ExcelWriter(output_filename, engine=\"openpyxl\") as writer:\n",
    "    dfyl.to_excel(writer, sheet_name=\"Yearly_Crown_Court_Cases\", startrow=5, index=False)\n",
    "    dfql.to_excel(writer, sheet_name=\"Quarterly_Crown_Court_Cases\", startrow=5, index=False)\n",
    "    dfylt.to_excel(writer, sheet_name=\"Trial_Yearly_Crown_Court_Cases\", startrow=5, index=False)\n",
    "    dfqlt.to_excel(writer, sheet_name=\"Trial_Quarterly_Crown_Court_Cases\", startrow=5, index=False)\n",
    "\n",
    "# Function To Adjust Column width\n",
    "def auto_adjust_column_width(ws, column_letter):\n",
    "    max_length = 0\n",
    "    col_index = ws[column_letter]  # Get the entire column\n",
    "\n",
    "    for cell in col_index:\n",
    "        if cell.value:\n",
    "            max_length = max(max_length, len(str(cell.value)))\n",
    "\n",
    "    adjusted_width = max_length + 2  # Add some padding\n",
    "    ws.column_dimensions[column_letter].width = adjusted_width\n",
    "    \n",
    "    \n",
    "#Edit WorkBook\n",
    "\n",
    "#Load Workbook\n",
    "wb = load_workbook(output_filename)\n",
    "\n",
    "\n",
    "def insert_metadata(sheet_name):\n",
    "    ws = wb[sheet_name]\n",
    "    ws[\"A1\"] = metadata[\"title\"]  # Title in first row\n",
    "    ws[\"A2\"] = metadata[\"subtitle1\"]  # subtitle1 in second row\n",
    "    ws[\"A3\"] = metadata[\"subtitle2\"]  # subtitle2 in third row\n",
    "    ws[\"A4\"] = metadata[\"source\"]  # Source in fourth row\n",
    "    \n",
    "    ws[\"A1\"].font = Font(bold=True)  # Make title bold\n",
    "    \n",
    "    # Apply wrap text to row 4 (column headers)\n",
    "    for col in range(1, ws.max_column + 1):  # Loop through all columns\n",
    "        ws.cell(row=6, column=col).alignment = Alignment(wrap_text=True)\n",
    "\n",
    "# Apply metadata to both sheets\n",
    "insert_metadata(\"Yearly_Crown_Court_Cases\")\n",
    "insert_metadata(\"Quarterly_Crown_Court_Cases\")\n",
    "insert_metadata(\"Trial_Yearly_Crown_Court_Cases\")\n",
    "insert_metadata(\"Trial_Quarterly_Crown_Court_Cases\")\n",
    "\n",
    "## Auto Adjust Quarter column\n",
    "wsq = wb[\"Quarterly_Crown_Court_Cases\"]  # Get the worksheet\n",
    "auto_adjust_column_width(wsq, \"B\")\n",
    "\n",
    "wsqt = wb[\"Trial_Quarterly_Crown_Court_Cases\"]  # Get the worksheet\n",
    "auto_adjust_column_width(wsqt, \"B\")\n",
    "\n",
    "# Save the updated file\n",
    "wb.save(output_filename)"
   ]
  },
  {
   "cell_type": "markdown",
   "id": "8d728068-51cc-44e5-a2be-534481cdde50",
   "metadata": {},
   "source": [
    "## Download Link "
   ]
  },
  {
   "cell_type": "code",
   "execution_count": 90,
   "id": "3a67df52-416a-48c3-ad43-c76c11753935",
   "metadata": {
    "tags": []
   },
   "outputs": [
    {
     "data": {
      "text/html": [
       "<a href=\"GPTable_Output.xlsx\" download>Click here to download GPTable_Output.xlsx</a>"
      ],
      "text/plain": [
       "<IPython.core.display.HTML object>"
      ]
     },
     "execution_count": 90,
     "metadata": {},
     "output_type": "execute_result"
    }
   ],
   "source": [
    "from IPython.display import HTML\n",
    "\n",
    "def create_download_link(filename):\n",
    "    return HTML(f'<a href=\"{filename}\" download>Click here to download {filename}</a>')\n",
    "\n",
    "create_download_link(output_filename)"
   ]
  },
  {
   "cell_type": "markdown",
   "id": "84afcbed-d821-4f6a-af82-4e345c90300e",
   "metadata": {},
   "source": [
    "Copy Workbook To S3 Location"
   ]
  },
  {
   "cell_type": "code",
   "execution_count": 53,
   "id": "5a597f63-fd49-41e7-bc1d-dacfcc55f3de",
   "metadata": {},
   "outputs": [
    {
     "name": "stdout",
     "output_type": "stream",
     "text": [
      "Requirement already satisfied: boto3 in /opt/conda/lib/python3.9/site-packages (1.24.82)\n",
      "Requirement already satisfied: botocore<1.28.0,>=1.27.82 in /opt/conda/lib/python3.9/site-packages (from boto3) (1.27.82)\n",
      "Requirement already satisfied: jmespath<2.0.0,>=0.7.1 in /opt/conda/lib/python3.9/site-packages (from boto3) (1.0.1)\n",
      "Requirement already satisfied: s3transfer<0.7.0,>=0.6.0 in /opt/conda/lib/python3.9/site-packages (from boto3) (0.6.0)\n",
      "Requirement already satisfied: urllib3<1.27,>=1.25.4 in /opt/conda/lib/python3.9/site-packages (from botocore<1.28.0,>=1.27.82->boto3) (1.26.6)\n",
      "Requirement already satisfied: python-dateutil<3.0.0,>=2.1 in /opt/conda/lib/python3.9/site-packages (from botocore<1.28.0,>=1.27.82->boto3) (2.8.2)\n",
      "Requirement already satisfied: six>=1.5 in /opt/conda/lib/python3.9/site-packages (from python-dateutil<3.0.0,>=2.1->botocore<1.28.0,>=1.27.82->boto3) (1.16.0)\n"
     ]
    }
   ],
   "source": [
    "!pip install boto3"
   ]
  },
  {
   "cell_type": "code",
   "execution_count": 56,
   "id": "7cfdd59a-a323-4d2a-9afe-5e19dbce4dd9",
   "metadata": {
    "tags": []
   },
   "outputs": [],
   "source": [
    "import boto3"
   ]
  },
  {
   "cell_type": "code",
   "execution_count": 58,
   "id": "16fbe504-223b-4266-9071-a8f4b926aa6c",
   "metadata": {},
   "outputs": [
    {
     "name": "stdout",
     "output_type": "stream",
     "text": [
      "AWS response code for uploading file is 200\n"
     ]
    }
   ],
   "source": [
    "# Set up AWS session with credentials\n",
    "#session = boto3.Session(\n",
    "#    aws_access_key_id=\"\",\n",
    "#    aws_secret_access_key=\"\",\n",
    "#    region_name=\"\"\n",
    "#)\n",
    "\n",
    "# Create an S3 client using the session\n",
    "s3_client = boto3.client(\"s3\")\n",
    "\n",
    "# Prepare the file and the bucket name\n",
    "bucket_name = \"alpha-fotest\"  # Enclosed in quotes\n",
    "output_filename = \"crown_court_extract.xlsx\"  # The file you're uploading\n",
    "data = open(output_filename, \"rb\")  # Open the file in binary mode\n",
    "\n",
    "response = s3_client.put_object(Bucket=bucket_name , Body=data, Key=output_filename)\n",
    "print(f\"AWS response code for uploading file is {(response['ResponseMetadata']['HTTPStatusCode'])}\")"
   ]
  }
 ],
 "metadata": {
  "kernelspec": {
   "display_name": "Python 3 (ipykernel)",
   "language": "python",
   "name": "python3"
  },
  "language_info": {
   "codemirror_mode": {
    "name": "ipython",
    "version": 3
   },
   "file_extension": ".py",
   "mimetype": "text/x-python",
   "name": "python",
   "nbconvert_exporter": "python",
   "pygments_lexer": "ipython3",
   "version": "3.9.6"
  }
 },
 "nbformat": 4,
 "nbformat_minor": 5
}
